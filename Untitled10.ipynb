{
 "cells": [
  {
   "cell_type": "code",
   "execution_count": 1,
   "id": "621d5936",
   "metadata": {},
   "outputs": [
    {
     "name": "stdout",
     "output_type": "stream",
     "text": [
      "Give me a number10\n",
      "Give me a second number90\n",
      "Chose a number \n",
      " 1: Addition \n",
      " 2: Subtraction \n",
      " 3: Division \n",
      " 4: multiplacation4\n",
      "900\n"
     ]
    }
   ],
   "source": [
    "num1 = int(input(\"Give me a number\"))\n",
    "num2 = int(input(\"Give me a second number\"))\n",
    "cal = int(input(\"Chose a number \\n 1: Addition \\n 2: Subtraction \\n 3: Division \\n 4: multiplacation\"))\n",
    "if cal == 1 :\n",
    "    print(num1+num2)\n",
    "elif cal == 2 :\n",
    "        print(num1-num2)\n",
    "elif cal == 3 :\n",
    "        print(num1/num2)\n",
    "elif cal == 4 :\n",
    "        print(num1*num2)\n",
    "else:\n",
    "    print(\"invalid sentence\")   "
   ]
  },
  {
   "cell_type": "code",
   "execution_count": null,
   "id": "b4313986",
   "metadata": {},
   "outputs": [],
   "source": [
    "mul = (input(\"Chose a number to make a table :\"))\n",
    "if mul 2 == 0:\n",
    "\n",
    "    print(mul)"
   ]
  }
 ],
 "metadata": {
  "kernelspec": {
   "display_name": "Python 3 (ipykernel)",
   "language": "python",
   "name": "python3"
  },
  "language_info": {
   "codemirror_mode": {
    "name": "ipython",
    "version": 3
   },
   "file_extension": ".py",
   "mimetype": "text/x-python",
   "name": "python",
   "nbconvert_exporter": "python",
   "pygments_lexer": "ipython3",
   "version": "3.11.5"
  }
 },
 "nbformat": 4,
 "nbformat_minor": 5
}
